{
  "nbformat": 4,
  "nbformat_minor": 0,
  "metadata": {
    "colab": {
      "provenance": [],
      "authorship_tag": "ABX9TyMHS5b9BznWZgRPnlGhkJkB",
      "include_colab_link": true
    },
    "kernelspec": {
      "name": "python3",
      "display_name": "Python 3"
    },
    "language_info": {
      "name": "python"
    },
    "accelerator": "TPU"
  },
  "cells": [
    {
      "cell_type": "markdown",
      "metadata": {
        "id": "view-in-github",
        "colab_type": "text"
      },
      "source": [
        "<a href=\"https://colab.research.google.com/github/Asm3515/SEET_LAB/blob/main/Boundry_Attack.ipynb\" target=\"_parent\"><img src=\"https://colab.research.google.com/assets/colab-badge.svg\" alt=\"Open In Colab\"/></a>"
      ]
    },
    {
      "cell_type": "markdown",
      "source": [
        "**Getting Foolbox and other toolkits to perform the attack mentioned\n",
        "Testing code available at**   :  https://colab.research.google.com/github/jonasrauber/foolbox-native-tutorial/blob/master/foolbox-native-tutorial.ipynb#scrollTo=f-prR7akVTVD"
      ],
      "metadata": {
        "id": "2Itjn3NActA3"
      }
    },
    {
      "cell_type": "code",
      "source": [
        "!pip install foolbox\n",
        "import foolbox as fb\n",
        "import eagerpy as ep\n",
        "import numpy as np\n",
        "import matplotlib.pyplot as plt\n",
        "import torch\n",
        "import torchvision\n",
        "import tensorflow as tf\n",
        "import numpy as np"
      ],
      "metadata": {
        "colab": {
          "base_uri": "https://localhost:8080/"
        },
        "id": "_l7WI__gcqyS",
        "outputId": "c2a77288-9014-49b3-9227-722b19251afb"
      },
      "execution_count": 1,
      "outputs": [
        {
          "output_type": "stream",
          "name": "stdout",
          "text": [
            "Collecting foolbox\n",
            "  Downloading foolbox-3.3.4-py3-none-any.whl (1.7 MB)\n",
            "\u001b[2K     \u001b[90m━━━━━━━━━━━━━━━━━━━━━━━━━━━━━━━━━━━━━━━━\u001b[0m \u001b[32m1.7/1.7 MB\u001b[0m \u001b[31m6.6 MB/s\u001b[0m eta \u001b[36m0:00:00\u001b[0m\n",
            "\u001b[?25hRequirement already satisfied: numpy in /usr/local/lib/python3.10/dist-packages (from foolbox) (1.25.2)\n",
            "Requirement already satisfied: scipy in /usr/local/lib/python3.10/dist-packages (from foolbox) (1.11.4)\n",
            "Requirement already satisfied: setuptools in /usr/local/lib/python3.10/dist-packages (from foolbox) (67.7.2)\n",
            "Collecting eagerpy>=0.30.0 (from foolbox)\n",
            "  Downloading eagerpy-0.30.0-py3-none-any.whl (31 kB)\n",
            "Collecting GitPython>=3.0.7 (from foolbox)\n",
            "  Downloading GitPython-3.1.43-py3-none-any.whl (207 kB)\n",
            "\u001b[2K     \u001b[90m━━━━━━━━━━━━━━━━━━━━━━━━━━━━━━━━━━━━━━━━\u001b[0m \u001b[32m207.3/207.3 kB\u001b[0m \u001b[31m10.5 MB/s\u001b[0m eta \u001b[36m0:00:00\u001b[0m\n",
            "\u001b[?25hRequirement already satisfied: typing-extensions>=3.7.4.1 in /usr/local/lib/python3.10/dist-packages (from foolbox) (4.11.0)\n",
            "Requirement already satisfied: requests>=2.24.0 in /usr/local/lib/python3.10/dist-packages (from foolbox) (2.31.0)\n",
            "Collecting gitdb<5,>=4.0.1 (from GitPython>=3.0.7->foolbox)\n",
            "  Downloading gitdb-4.0.11-py3-none-any.whl (62 kB)\n",
            "\u001b[2K     \u001b[90m━━━━━━━━━━━━━━━━━━━━━━━━━━━━━━━━━━━━━━━━\u001b[0m \u001b[32m62.7/62.7 kB\u001b[0m \u001b[31m4.3 MB/s\u001b[0m eta \u001b[36m0:00:00\u001b[0m\n",
            "\u001b[?25hRequirement already satisfied: charset-normalizer<4,>=2 in /usr/local/lib/python3.10/dist-packages (from requests>=2.24.0->foolbox) (3.3.2)\n",
            "Requirement already satisfied: idna<4,>=2.5 in /usr/local/lib/python3.10/dist-packages (from requests>=2.24.0->foolbox) (3.6)\n",
            "Requirement already satisfied: urllib3<3,>=1.21.1 in /usr/local/lib/python3.10/dist-packages (from requests>=2.24.0->foolbox) (2.0.7)\n",
            "Requirement already satisfied: certifi>=2017.4.17 in /usr/local/lib/python3.10/dist-packages (from requests>=2.24.0->foolbox) (2024.2.2)\n",
            "Collecting smmap<6,>=3.0.1 (from gitdb<5,>=4.0.1->GitPython>=3.0.7->foolbox)\n",
            "  Downloading smmap-5.0.1-py3-none-any.whl (24 kB)\n",
            "Installing collected packages: smmap, eagerpy, gitdb, GitPython, foolbox\n",
            "Successfully installed GitPython-3.1.43 eagerpy-0.30.0 foolbox-3.3.4 gitdb-4.0.11 smmap-5.0.1\n"
          ]
        }
      ]
    },
    {
      "cell_type": "markdown",
      "source": [
        "**Loding Model for Testing the code**"
      ],
      "metadata": {
        "id": "6O8Q_8C3eEnj"
      }
    },
    {
      "cell_type": "code",
      "source": [
        "model = tf.keras.applications.MobileNetV2(weights=\"imagenet\")\n"
      ],
      "metadata": {
        "colab": {
          "base_uri": "https://localhost:8080/"
        },
        "id": "dzqEOVZ5eSwW",
        "outputId": "40823f49-e818-46e1-d245-28eb91e172c5"
      },
      "execution_count": 2,
      "outputs": [
        {
          "output_type": "stream",
          "name": "stdout",
          "text": [
            "Downloading data from https://storage.googleapis.com/tensorflow/keras-applications/mobilenet_v2/mobilenet_v2_weights_tf_dim_ordering_tf_kernels_1.0_224.h5\n",
            "14536120/14536120 [==============================] - 0s 0us/step\n"
          ]
        }
      ]
    },
    {
      "cell_type": "markdown",
      "source": [
        "**Turn your PyTorch / TensorFlow model into a Foolbox model**"
      ],
      "metadata": {
        "id": "703B3aRUeVVg"
      }
    },
    {
      "cell_type": "code",
      "source": [
        "preprocessing = dict()\n",
        "bounds = (-1, 1)\n",
        "fmodel = fb.TensorFlowModel(model, bounds=bounds, preprocessing=preprocessing)"
      ],
      "metadata": {
        "colab": {
          "base_uri": "https://localhost:8080/"
        },
        "id": "JN4vB8RxeUmh",
        "outputId": "8400c454-46df-4247-9455-78487592001f"
      },
      "execution_count": 3,
      "outputs": [
        {
          "output_type": "stream",
          "name": "stderr",
          "text": [
            "WARNING:tensorflow:From /usr/local/lib/python3.10/dist-packages/foolbox/models/tensorflow.py:13: is_gpu_available (from tensorflow.python.framework.test_util) is deprecated and will be removed in a future version.\n",
            "Instructions for updating:\n",
            "Use `tf.config.list_physical_devices('GPU')` instead.\n"
          ]
        }
      ]
    },
    {
      "cell_type": "markdown",
      "source": [
        "**Transform bounds**"
      ],
      "metadata": {
        "id": "UliJCposeyL4"
      }
    },
    {
      "cell_type": "code",
      "source": [
        "fmodel = fmodel.transform_bounds((0, 1))\n",
        "assert fmodel.bounds == (0, 1)"
      ],
      "metadata": {
        "id": "ClOz5JuBe5Ym"
      },
      "execution_count": 4,
      "outputs": []
    },
    {
      "cell_type": "markdown",
      "source": [
        "**Get some test images to check**"
      ],
      "metadata": {
        "id": "sE8qnbgJfGZa"
      }
    },
    {
      "cell_type": "code",
      "source": [
        "images, labels = fb.utils.samples(fmodel, dataset='imagenet', batchsize=16)"
      ],
      "metadata": {
        "id": "0J7xCNPPfFDX"
      },
      "execution_count": 5,
      "outputs": []
    },
    {
      "cell_type": "markdown",
      "source": [
        "**Check the accuracy of your model to make sure you specified the correct preprocessing**"
      ],
      "metadata": {
        "id": "81404OUwfQK0"
      }
    },
    {
      "cell_type": "code",
      "source": [
        "fb.utils.accuracy(fmodel, images, labels)"
      ],
      "metadata": {
        "colab": {
          "base_uri": "https://localhost:8080/"
        },
        "id": "rLG337VUfToX",
        "outputId": "ed7e76ee-bfdf-4fcc-a370-70e45dbb6df7"
      },
      "execution_count": 6,
      "outputs": [
        {
          "output_type": "execute_result",
          "data": {
            "text/plain": [
              "0.9375"
            ]
          },
          "metadata": {},
          "execution_count": 6
        }
      ]
    },
    {
      "cell_type": "markdown",
      "source": [
        "**Running LinfDeepFool**"
      ],
      "metadata": {
        "id": "Xowq79ePfax4"
      }
    },
    {
      "cell_type": "code",
      "source": [
        "attack = fb.attacks.LinfDeepFoolAttack()"
      ],
      "metadata": {
        "id": "nTCaSH8Hf9XX"
      },
      "execution_count": 7,
      "outputs": []
    },
    {
      "cell_type": "markdown",
      "source": [
        "**Use EagerPy tensors and rerun the attack**"
      ],
      "metadata": {
        "id": "1j1L2cblg68L"
      }
    },
    {
      "cell_type": "code",
      "source": [
        "import eagerpy as ep\n",
        "images = ep.astensor(images)\n",
        "labels = ep.astensor(labels)\n",
        "raw, clipped, is_adv = attack(fmodel, images, labels, epsilons=0.03)"
      ],
      "metadata": {
        "id": "9cJjA51Thbh1"
      },
      "execution_count": 8,
      "outputs": []
    },
    {
      "cell_type": "markdown",
      "source": [
        "**Using the Misclassification criterion explicitly**"
      ],
      "metadata": {
        "id": "36qVNtP_hnQ1"
      }
    },
    {
      "cell_type": "code",
      "source": [
        "criterion = fb.criteria.Misclassification(labels)\n",
        "raw, clipped, is_adv = attack(fmodel, images, criterion, epsilons=0.03)\n",
        "is_adv"
      ],
      "metadata": {
        "colab": {
          "base_uri": "https://localhost:8080/"
        },
        "id": "24ncrgHohrfa",
        "outputId": "48f699b6-8521-415f-96f0-015bde70afdf"
      },
      "execution_count": 9,
      "outputs": [
        {
          "data": {
            "text/plain": [
              "TensorFlowTensor(<tf.Tensor: shape=(16,), dtype=bool, numpy=\n",
              "                 array([ True,  True,  True,  True,  True,  True,  True,  True,  True,\n",
              "                         True,  True,  True,  True,  True,  True,  True])>)"
            ]
          },
          "execution_count": 9,
          "metadata": {},
          "output_type": "execute_result"
        }
      ]
    },
    {
      "cell_type": "markdown",
      "source": [
        "**Run the attack using multiple epsilons**"
      ],
      "metadata": {
        "id": "ov7qBRWhh2O4"
      }
    },
    {
      "cell_type": "code",
      "source": [
        "epsilons = np.linspace(0.0, 0.005, num=20)\n",
        "raw, clipped, is_adv = attack(fmodel, images, labels, epsilons=epsilons)\n",
        "robust_accuracy = 1 - is_adv.float32().mean(axis=-1)\n",
        "plt.plot(epsilons, robust_accuracy.numpy())"
      ],
      "metadata": {
        "id": "4Z4WWaoDh1_6"
      },
      "execution_count": null,
      "outputs": []
    },
    {
      "cell_type": "markdown",
      "source": [
        "**Visualizing adversarial examples and perturbations**"
      ],
      "metadata": {
        "id": "hg1uicYRjs9Y"
      }
    },
    {
      "cell_type": "code",
      "source": [
        "type(images)\n",
        "fb.plot.images(images)"
      ],
      "metadata": {
        "id": "mBeCI6zXj03O"
      },
      "execution_count": null,
      "outputs": []
    },
    {
      "cell_type": "code",
      "source": [
        "advs, _, is_adv = attack(fmodel, images, criterion, epsilons=epsilons)"
      ],
      "metadata": {
        "id": "L6kjK9m7ib9k"
      },
      "execution_count": null,
      "outputs": []
    },
    {
      "cell_type": "code",
      "source": [
        "for adv_example in advs:\n",
        "    adv_numpy = adv_example.raw.numpy()\n",
        "    fb.plot.images(adv_numpy)\n",
        "\n",
        "\n",
        "\n",
        "\n"
      ],
      "metadata": {
        "id": "UlSvn4IMlOFp"
      },
      "execution_count": null,
      "outputs": []
    },
    {
      "cell_type": "markdown",
      "source": [
        "**Reimplementation of the same attack shown above with Enhanced parameter**"
      ],
      "metadata": {
        "id": "w17JW3mAicHp"
      }
    },
    {
      "cell_type": "code",
      "source": [
        "\n",
        "# Before attack accuracy check\n",
        "def check_main_accuracy(fmodel, images, labels):\n",
        "    accuracy = fb.utils.accuracy(fmodel, images, labels)\n",
        "    return accuracy\n",
        "\n",
        "# Purtubation attack using epsilon\n",
        "def perform_epsilon_perturbation(fmodel, images, labels, epsilon):\n",
        "    attack = fb.attacks.LinfDeepFoolAttack()\n",
        "    raw, clipped, is_adv = attack(fmodel, images, labels, epsilons=epsilon)\n",
        "    return is_adv\n",
        "\n",
        "# Targated Attack\n",
        "def perform_targeted_attack(fmodel, images, target_classes, epsilons):\n",
        "    criterion = fb.criteria.TargetedMisclassification(target_classes)\n",
        "    attack = fb.attacks.L2CarliniWagnerAttack(steps=100)\n",
        "    #attack = fb.attacks.L2CarliniWagnerAttack(steps=100,binary_search_steps=20)    #Enchancement made with Binary Search Step Size\n",
        "    epsilons = None\n",
        "    advs, _, is_adv = attack(fmodel, images, criterion,epsilons=epsilons)\n",
        "    return is_adv\n",
        "\n",
        "# Function to plot accuracy\n",
        "def plot_accuracy(before_accuracy, after_accuracy, title):\n",
        "    plt.plot(before_accuracy, label='Before Attack')\n",
        "    plt.plot(after_accuracy, label='After Attack')\n",
        "    plt.xlabel('Model Index')\n",
        "    plt.ylabel('Accuracy')\n",
        "    plt.title(title)\n",
        "    plt.legend()\n",
        "    plt.show()\n",
        "\n",
        "# Get all models and store in form of list\n",
        "models = [\n",
        "    torchvision.models.resnet18(pretrained=True),\n",
        "    tf.keras.applications.ResNet50(weights=\"imagenet\")\n",
        "]\n",
        "\n",
        "main_accuracy_before = []\n",
        "main_accuracy_after = []\n",
        "\n",
        "for model in models:\n",
        "    # Convert the model to Foolbox model\n",
        "    if isinstance(model, torch.nn.Module):\n",
        "        preprocessing = dict(mean=[0.485, 0.456, 0.406], std=[0.229, 0.224, 0.225], axis=-3)\n",
        "        bounds = (0, 1)\n",
        "        fmodel = fb.PyTorchModel(model, bounds=bounds, preprocessing=preprocessing)\n",
        "    elif isinstance(model, tf.keras.Model):\n",
        "        preprocessing = dict(flip_axis=-1, mean=[103.939, 116.779, 123.68])\n",
        "        bounds = (0, 255)\n",
        "        fmodel = fb.TensorFlowModel(model, bounds=bounds, preprocessing=preprocessing)\n",
        "\n",
        "    # Small batch to test the pretrained model\n",
        "    images, labels = fb.utils.samples(fmodel, dataset='imagenet', batchsize=16)\n",
        "\n",
        "    # pre accuracy chek call\n",
        "    accuracy_before = check_main_accuracy(fmodel, images, labels)\n",
        "    main_accuracy_before.append(accuracy_before)\n",
        "\n",
        "\n",
        "    # perform epsilon based pertubation call\n",
        "    epsilons = 0.03\n",
        "    is_adv = perform_epsilon_perturbation(fmodel, images, labels, epsilons)\n",
        "\n",
        "    # Label target selection\n",
        "    target_classes = (labels + 200) % 1000\n",
        "    is_adv_targeted = perform_targeted_attack(fmodel, images, target_classes ,epsilons)\n",
        "\n",
        "    # Attack accuracy calculation\n",
        "    accuracy_after = 1 - is_adv_targeted.cpu().numpy().mean().item()\n",
        "    main_accuracy_after.append(accuracy_after)\n",
        "\n",
        "\n",
        "plot_accuracy(main_accuracy_before, main_accuracy_after, 'Main Accuracy Before vs After Targeted Attack')\n"
      ],
      "metadata": {
        "id": "wKhp5O7W3vY7"
      },
      "execution_count": null,
      "outputs": []
    },
    {
      "cell_type": "markdown",
      "source": [
        "** Check the Accuracy Values**"
      ],
      "metadata": {
        "id": "D3sRyxS4M8G8"
      }
    },
    {
      "cell_type": "code",
      "source": [
        "print(main_accuracy_before)\n",
        "print(main_accuracy_after)"
      ],
      "metadata": {
        "id": "g4FP2TXrU-KZ"
      },
      "execution_count": null,
      "outputs": []
    }
  ]
}